{
 "cells": [
  {
   "cell_type": "markdown",
   "metadata": {},
   "source": [
    "## Lab 1: Creating a simple customer support agent prototype\n",
    "\n",
    "### Overview\n",
    "\n",
    "[Amazon Bedrock AgentCore](https://aws.amazon.com/bedrock/agentcore/) helps you deploying and operating AI agents securely at scale - using any framework and model. It provides you with the capability to move from prototype to production faster. \n",
    "\n",
    "In this 5-labs tutorial, we will demonstrate the end-to-end journey from prototype to production using a **Customer Support Agent**. For this example we will use [Strands Agents](https://strandsagents.com/latest/), a simple-to-use, code-first framework for building agents and the Anthropic Claude Sonnet 3.7 model from Amazon Bedrock. For your application you can use the framework and model of your choice. It's important to note that the concepts covered here can be applied using other frameworks and models as well.\n",
    "\n",
    "**Workshop Journey:**\n",
    "- **Lab 1 (Current)**: Create Agent Prototype - Build a functional customer support agent\n",
    "- **Lab 2**: Enhance with Memory - Add conversation context and personalization\n",
    "- **Lab 3**: Scale with Gateway & Identity - Share tools across agents securely\n",
    "- **Lab 4**: Deploy to Production - Use AgentCore Runtime with observability\n",
    "- **Lab 5**: Build User Interface - Create a customer-facing application\n",
    "\n",
    "In this first lab, we'll build a Customer Support Agent prototype that will evolve throughout the workshop into a production-ready system serving multiple customers with persistent memory, shared tools, and full observability. Our agent will have the following local tools available:\n",
    "- **get_return_policy()** - Get return policy for specific products\n",
    "- **get_product_info()** - Get product information\n",
    "- **web_search()** - Search the web for troubleshooting help\n",
    "- **get_technical_support()** - Search a Bedrock Knowledge Base\n",
    "\n",
    "\n",
    "### Architecture for Lab 1\n",
    "<div style=\"text-align:left\">\n",
    "    <img src=\"images/architecture_lab1_strands.png\" width=\"75%\"/>\n",
    "</div>\n",
    "\n",
    "*Simple prototype running locally. In subsequent labs, we'll migrate this to AgentCore services with shared tools, persistent memory, and production-grade observability.*\n",
    "\n",
    "### Prerequisites\n",
    "\n",
    "* **AWS Account** with appropriate permissions\n",
    "* **Python 3.10+** installed locally\n",
    "* **AWS CLI configured** with credentials\n",
    "* **Anthropic Claude 3.7** enabled on [Amazon Bedrock](https://docs.aws.amazon.com/bedrock/latest/userguide/model-access.html)\n",
    "* **Strands Agents** and other libraries installed in the next cells"
   ]
  },
  {
   "cell_type": "markdown",
   "metadata": {},
   "source": [
    "### Step 1: Install Dependencies and Import Libraries\n",
    "Before we start, let's install the pre-requisites for this lab"
   ]
  },
  {
   "cell_type": "code",
   "execution_count": 39,
   "metadata": {},
   "outputs": [
    {
     "name": "stdout",
     "output_type": "stream",
     "text": [
      "Note: you may need to restart the kernel to use updated packages.\n"
     ]
    }
   ],
   "source": [
    "# Install required packages\n",
    "%pip install -U -r requirements.txt -q"
   ]
  },
  {
   "cell_type": "markdown",
   "metadata": {},
   "source": [
    "We can now import the required libraries and initialize our boto3 session"
   ]
  },
  {
   "cell_type": "code",
   "execution_count": 40,
   "metadata": {},
   "outputs": [],
   "source": [
    "# Import libraries\n",
    "import boto3\n",
    "from boto3.session import Session\n",
    "\n",
    "from ddgs.exceptions import DDGSException, RatelimitException\n",
    "from ddgs import DDGS\n",
    "\n",
    "from strands.tools import tool\n",
    "from lab_helpers.utils import put_ssm_parameter"
   ]
  },
  {
   "cell_type": "code",
   "execution_count": 41,
   "metadata": {},
   "outputs": [
    {
     "name": "stdout",
     "output_type": "stream",
     "text": [
      "region: ap-southeast-2\n"
     ]
    }
   ],
   "source": [
    "# Get boto session\n",
    "boto_session = Session()\n",
    "region = boto_session.region_name\n",
    "print('region:', region)"
   ]
  },
  {
   "cell_type": "markdown",
   "metadata": {},
   "source": [
    "### Step 2: Implementing custom tools\n",
    "TODO\n",
    "\n",
    "Next, we will implement the N tools which will be provided to the Travel Agent.\n",
    "\n",
    "Defining tools in Strands Agent is extremely simple, just add a `@tool` decorator to your function, and provide a description of the tool in the function's docstring. Strands Agents will use the function documentation, typing and arguments to provide context on this tool to your agent. \n"
   ]
  },
  {
   "cell_type": "markdown",
   "metadata": {},
   "source": [
    "#### Tool 1: Get Destination Info\n",
    "TODO\n",
    "**Purpose:** This tool helps customers understand return policies for different product categories. It provides detailed information about return windows, conditions, processes, and refund timelines so customers know exactly what to expect when returning items."
   ]
  },
  {
   "cell_type": "code",
   "execution_count": 5,
   "metadata": {},
   "outputs": [
    {
     "name": "stdout",
     "output_type": "stream",
     "text": [
      "✅ Destination tool ready\n"
     ]
    }
   ],
   "source": [
    "# tools: get_destiantion_info, get_experience_info\n",
    "import json\n",
    "\n",
    "\n",
    "# TODO: fix this tool so it works\n",
    "\n",
    "@tool\n",
    "def get_destination_info(destination: str) -> str:\n",
    "    \"\"\"\n",
    "    Get information about a specific destination.\n",
    "\n",
    "    Args:\n",
    "        desination: The name of the destination (e.g., 'Bangkok')\n",
    "\n",
    "    Returns:\n",
    "        Formatted information about the destination including descriptions, ratings, highlights and tags\n",
    "\n",
    "    \"\"\"\n",
    "    with open('destinations.json', 'r') as f:\n",
    "        data = f.read()\n",
    "\n",
    "    return json.dumps(\n",
    "  {\n",
    "    \"id\": 1,\n",
    "    \"name\": \"Bangkok\",\n",
    "    \"country\": \"Thailand\",\n",
    "    \"price\": 150,\n",
    "    \"image\": \"https://images.unsplash.com/photo-1508009603885-50cf7c579365?q=80&w=1950&ixlib=rb-4.0.3&auto=format&fit=crop&w=800&q=80\",\n",
    "    \"images_category\": {\n",
    "      \"cultural_explorer\": \"https://images.unsplash.com/photo-1690299490301-2eb3865bee58?q=80&w=2069&auto=format&fit=crop&ixlib=rb-4.1.0&ixid=M3wxMjA3fDB8MHxwaG90by1wYWdlfHx8fGVufDB8fHx8fA%3D%3D\",\n",
    "      \"family_fun\": \"https://images.unsplash.com/photo-1733150632166-8d8752da4ff6?q=80&w=2232&auto=format&fit=crop&ixlib=rb-4.1.0&ixid=M3wxMjA3fDB8MHxwaG90by1wYWdlfHx8fGVufDB8fHx8fA%3D%3D\",\n",
    "      \"modern_urbanite\": \"https://images.unsplash.com/photo-1593103499244-6c882f0163cf?q=80&w=2070&auto=format&fit=crop&ixlib=rb-4.1.0&ixid=M3wxMjA3fDB8MHxwaG90by1wYWdlfHx8fGVufDB8fHx8fA%3D%3D\",\n",
    "      \"tranquil_seeker\": \"https://images.unsplash.com/photo-1591233244269-d8c4bcbbf1dd?q=80&w=987&auto=format&fit=crop&ixlib=rb-4.1.0&ixid=M3wxMjA3fDB8MHxwaG90by1wYWdlfHx8fGVufDB8fHx8fA%3D%3D\",\n",
    "      \"culinary_tourist\": \"https://images.unsplash.com/photo-1506781961370-37a89d6b3095?q=80&w=1674&auto=format&fit=crop&ixlib=rb-4.1.0&ixid=M3wxMjA3fDB8MHxwaG90by1wYWdlfHx8fGVufDB8fHx8fA%3D%3D\"\n",
    "    },\n",
    "    \"description\": \"Vibrant capital with street food, temples, and bustling markets\",\n",
    "    \"descriptions\": {\n",
    "      \"cultural_explorer\": \"Grand palaces, ancient temples, and rich history await. Discover the soul of Thailand's capital.\",\n",
    "      \"family_fun\": \"Kids love the tuk-tuks, canal tours, and vibrant markets. A city of endless family adventures.\",\n",
    "      \"culinary_tourist\": \"A street food paradise with an explosion of flavours. Authentic Thai cuisine at every turn.\",\n",
    "      \"tranquil_seeker\": \"Find peace in serene temples, tranquil gardens, and riverside long-tail boat journeys.\",\n",
    "      \"modern_urbanite\": \"A vibrant, non-stop metropolis with world-class nightlife, shopping, and cutting-edge art.\"\n",
    "    },\n",
    "    \"rating\": 4.5,\n",
    "    \"priceLevel\": 2,\n",
    "    \"safety\": 4,\n",
    "    \"weather\": 3,\n",
    "    \"activities\": 5,\n",
    "    \"familyFriendly\": 4,\n",
    "    \"internet\": 5,\n",
    "    \"cost\": 5,\n",
    "    \"airQuality\": 2,\n",
    "    \"leisure\": 5,\n",
    "    \"food\": 5,\n",
    "    \"culture\": 5,\n",
    "    \"suitability\": [\"Local\", \"Expat\", \"Nomad\"],\n",
    "    \"highlights\": [\"Street Food\", \"Temples\", \"Nightlife\", \"Shopping\"],\n",
    "    \"tags\": [\"temples\", \"nightlife\", \"street-food\", \"shopping\", \"urban\"]\n",
    "  }\n",
    "    )\n",
    "\n",
    "print(\"✅ Destination tool ready\")"
   ]
  },
  {
   "cell_type": "markdown",
   "metadata": {},
   "source": [
    "#### Tool 2: Get Product Information\n",
    "\n",
    "**Purpose:** This tool provides customers with comprehensive product details including warranties, available models, key features, shipping policies, and return information. It helps customers make informed purchasing decisions and understand what they're buying."
   ]
  },
  {
   "cell_type": "code",
   "execution_count": 27,
   "metadata": {},
   "outputs": [
    {
     "name": "stdout",
     "output_type": "stream",
     "text": [
      "✅ Experience tool ready\n",
      "✅ Experience tool ready\n"
     ]
    }
   ],
   "source": [
    "@tool\n",
    "def get_experience_info(experience: str) -> str:\n",
    "    \"\"\"\n",
    "    Get detailed information on what experiences are available and what is involved\n",
    "\n",
    "    Args:\n",
    "        experience: Experience name\n",
    "    Returns:\n",
    "        Formatted experience information including experience length, tags\n",
    "    \"\"\"\n",
    "    with open('experiences.json', 'r') as f:\n",
    "        data = f.read()\n",
    "    return data\n",
    "print(\"✅ Experience tool ready\")\n",
    "\n",
    "@tool\n",
    "def get_all_experiences() -> str:\n",
    "    \"\"\"\n",
    "    Get detailed information on what experiences are available and what is involved\n",
    "\n",
    "    Returns:\n",
    "        Formatted experience information including experience length, tags\n",
    "    \"\"\"\n",
    "    with open('experiences.json', 'r') as f:\n",
    "        data = f.read()\n",
    "    return data\n",
    "print(\"✅ Experience tool ready\")"
   ]
  },
  {
   "cell_type": "markdown",
   "metadata": {},
   "source": [
    "#### Tool 3: Web-search\n",
    "\n",
    "**Purpose:** This tool allows customers to get troubleshooting support or suggestions on product recommendations etc."
   ]
  },
  {
   "cell_type": "code",
   "execution_count": 7,
   "metadata": {},
   "outputs": [
    {
     "name": "stdout",
     "output_type": "stream",
     "text": [
      "✅ Web search tool ready\n"
     ]
    }
   ],
   "source": [
    "@tool\n",
    "def web_search(keywords: str, region: str = \"us-en\", max_results: int = 5) -> str:\n",
    "    \"\"\"Search the web for updated information.\n",
    "    \n",
    "    Args:\n",
    "        keywords (str): The search query keywords.\n",
    "        region (str): The search region: wt-wt, us-en, uk-en, ru-ru, etc..\n",
    "        max_results (int | None): The maximum number of results to return.\n",
    "    Returns:\n",
    "        List of dictionaries with search results.\n",
    "    \n",
    "    \"\"\"\n",
    "    try:\n",
    "        results = DDGS().text(keywords, region=region, max_results=max_results)\n",
    "        return results if results else \"No results found.\"\n",
    "    except RatelimitException:\n",
    "        return \"Rate limit reached. Please try again later.\"\n",
    "    except DDGSException as e:\n",
    "        return f\"Search error: {e}\"\n",
    "    except Exception as e:\n",
    "        return f\"Search error: {str(e)}\"\n",
    "\n",
    "print(\"✅ Web search tool ready\")"
   ]
  },
  {
   "cell_type": "code",
   "execution_count": null,
   "metadata": {},
   "outputs": [],
   "source": [
    "import json\n",
    "import snowplow_signals\n",
    "\n",
    "\n",
    "API_URL = \"https://example.signals.snowplowanalytics.com\"\n",
    "API_KEY = \"\"\n",
    "API_KEY_ID = \"\"\n",
    "ORG_ID = \"\"\n",
    "\n",
    "@tool\n",
    "def get_signals() -> str:\n",
    "    try:\n",
    "        sp_signals = Signals(API_URL, API_KEY, API_KEY_ID, ORG_ID)\n",
    "        response = sp_signals.get_service_attributes(\n",
    "            name='travel_service',\n",
    "            attribute_key='domain_sessionid',\n",
    "            identifier=domain_sessionid\n",
    "        )\n",
    "        # TODO: subtract user id out\n",
    "        # TODO: consider only returning non-None values\n",
    "        print(f'signals returned: {response}')\n",
    "        return json.dumps(response)\n",
    "    except Exception as e:\n",
    "        return f\"Failed to get Signals: {e}\"\n",
    "            "
   ]
  },
  {
   "cell_type": "markdown",
   "metadata": {
    "jupyter": {
     "source_hidden": true
    }
   },
   "source": [
    "#### Customer Support Agent - Knowledge Base Integration Steps\n",
    "\n",
    "##### Download product technical_support files from S3"
   ]
  },
  {
   "cell_type": "code",
   "execution_count": 10,
   "metadata": {
    "collapsed": true,
    "jupyter": {
     "outputs_hidden": true,
     "source_hidden": true
    }
   },
   "outputs": [
    {
     "name": "stdout",
     "output_type": "stream",
     "text": [
      "Downloaded: laptop-maintenance-guide.txt\n",
      "Downloaded: monitor-calibration-guide.txt\n",
      "Downloaded: smartphone-setup-guide.txt\n",
      "Downloaded: troubleshooting-guide.txt\n",
      "Downloaded: warranty-service-guide.txt\n",
      "Downloaded: wireless-connectivity-guide.txt\n",
      "All files saved to: knowledge_base_data/\n"
     ]
    }
   ],
   "source": [
    "import os\n",
    "\n",
    "# TODO: should this KB be switched out for something different?\n",
    "\n",
    "def download_files():\n",
    "    # Get account and region\n",
    "    account_id = boto3.client('sts').get_caller_identity()['Account']\n",
    "    region = boto3.Session().region_name\n",
    "    bucket_name = f\"{account_id}-{region}-kb-data-bucket\"\n",
    "    \n",
    "    # Create local folder\n",
    "    os.makedirs(\"knowledge_base_data\", exist_ok=True)\n",
    "    \n",
    "    # Download all files\n",
    "    s3 = boto3.client('s3')\n",
    "    objects = s3.list_objects_v2(Bucket=bucket_name)\n",
    "    \n",
    "    for obj in objects['Contents']:\n",
    "        file_name = obj['Key']\n",
    "        s3.download_file(bucket_name, file_name, f\"knowledge_base_data/{file_name}\")\n",
    "        print(f\"Downloaded: {file_name}\")\n",
    "    \n",
    "    print(f\"All files saved to: knowledge_base_data/\")\n",
    "\n",
    "# Run it\n",
    "download_files()"
   ]
  },
  {
   "cell_type": "markdown",
   "metadata": {
    "jupyter": {
     "source_hidden": true
    }
   },
   "source": [
    "#### Knowledge Base Sync Job\n",
    "\n",
    "##### Sync the knowledge base with product technical_support files from S3 which can be integrated with the agent"
   ]
  },
  {
   "cell_type": "code",
   "execution_count": null,
   "metadata": {
    "jupyter": {
     "source_hidden": true
    }
   },
   "outputs": [],
   "source": [
    "import boto3\n",
    "import time\n",
    "\n",
    "# Get parameters\n",
    "ssm = boto3.client('ssm')\n",
    "bedrock = boto3.client('bedrock-agent')\n",
    "s3 = boto3.client('s3')\n",
    "\n",
    "account_id = boto3.client('sts').get_caller_identity()['Account']\n",
    "region = boto3.Session().region_name\n",
    "\n",
    "kb_id = ssm.get_parameter(Name=f\"/{account_id}-{region}/kb/knowledge-base-id\")['Parameter']['Value']\n",
    "ds_id = ssm.get_parameter(Name=f\"/{account_id}-{region}/kb/data-source-id\")['Parameter']['Value']\n",
    "\n",
    "# Get file names from S3 bucket\n",
    "bucket_name = f\"{account_id}-{region}-kb-data-bucket\"\n",
    "s3_objects = s3.list_objects_v2(Bucket=bucket_name)\n",
    "file_names = [obj['Key'] for obj in s3_objects.get('Contents', [])]\n",
    "\n",
    "# Start sync job\n",
    "response = bedrock.start_ingestion_job(\n",
    "    knowledgeBaseId=kb_id,\n",
    "    dataSourceId=ds_id,\n",
    "    description=\"Quick sync\"\n",
    ")\n",
    "\n",
    "job_id = response['ingestionJob']['ingestionJobId']\n",
    "print(\"Bedrock knowledge base sync job started, ingesting the data files from s3\")\n",
    "\n",
    "# Monitor until complete\n",
    "while True:\n",
    "    job = bedrock.get_ingestion_job(\n",
    "        knowledgeBaseId=kb_id,\n",
    "        dataSourceId=ds_id,\n",
    "        ingestionJobId=job_id\n",
    "    )['ingestionJob']\n",
    "    \n",
    "    status = job['status']\n",
    "    \n",
    "    if status in ['COMPLETE', 'FAILED']:\n",
    "        break\n",
    "        \n",
    "    time.sleep(10)\n",
    "\n",
    "# Print final result\n",
    "if status == 'COMPLETE':\n",
    "    file_count = job.get('statistics', {}).get('numberOfDocumentsScanned', 0)\n",
    "    files_list = ', '.join(file_names)\n",
    "    print(f\"Bedrock knowledge base sync job completed Successfully, ingested {file_count} files\")\n",
    "    print(f\"Files ingested: {files_list}\")\n",
    "else:\n",
    "    print(f\"Bedrock knowledge base sync job failed with status: {status}\")"
   ]
  },
  {
   "cell_type": "markdown",
   "metadata": {
    "jupyter": {
     "source_hidden": true
    }
   },
   "source": [
    "#### Tool 4: Get Technical Support\n",
    "\n",
    "**Purpose:**  This tool provides customers with comprehensive technical support and troubleshooting assistance by accessing our knowledge base of electronics documentation. It includes detailed setup guides, maintenance instructions, troubleshooting steps, connectivity solutions, and warranty service information. This tool helps customers resolve technical issues, properly configure their devices, and understand maintenance requirements for optimal product performance."
   ]
  },
  {
   "cell_type": "code",
   "execution_count": null,
   "metadata": {
    "jupyter": {
     "source_hidden": true
    }
   },
   "outputs": [],
   "source": [
    "import os\n",
    "from strands.tools.mcp.mcp_client import MCPClient\n",
    "from mcp.client.stdio import stdio_client\n",
    "from mcp.client.stdio import StdioServerParameters\n",
    "from strands.models import BedrockModel\n",
    "from strands import Agent\n",
    "from strands_tools import retrieve\n",
    "\n",
    "@tool\n",
    "def get_technical_support(issue_description: str) -> str:\n",
    "\ttry:\n",
    "\t\t# Get KB ID from parameter store\n",
    "\t\tssm = boto3.client('ssm')\n",
    "\t\taccount_id = boto3.client('sts').get_caller_identity()['Account']\n",
    "\t\tregion = boto3.Session().region_name\n",
    "\n",
    "\t\tkb_id = ssm.get_parameter(Name=f\"/{account_id}-{region}/kb/knowledge-base-id\")['Parameter']['Value']\n",
    "\t\tprint(f\"Successfully retrieved KB ID: {kb_id}\")\n",
    "\n",
    "\t\t# Use strands retrieve tool\n",
    "\t\ttool_use = {\n",
    "\t\t\t\"toolUseId\": \"tech_support_query\",\n",
    "\t\t\t\"input\": {\n",
    "\t\t\t\t\"text\": issue_description,\n",
    "\t\t\t\t\"knowledgeBaseId\": kb_id,\n",
    "\t\t\t\t\"region\": region,\n",
    "\t\t\t\t\"numberOfResults\": 3,\n",
    "\t\t\t\t\"score\": 0.4\n",
    "\t\t\t}\n",
    "\t\t}\n",
    "\n",
    "\t\tresult = retrieve.retrieve(tool_use)\n",
    "\n",
    "\t\tif result[\"status\"] == \"success\":\n",
    "\t\t\treturn result[\"content\"][0][\"text\"]\n",
    "\t\telse:\n",
    "\t\t\treturn f\"Unable to access technical support documentation. Error: {result['content'][0]['text']}\"\n",
    "\n",
    "\texcept Exception as e:\n",
    "\t\tprint(f\"Detailed error in get_technical_support: {str(e)}\")\n",
    "\t\treturn f\"Unable to access technical support documentation. Error: {str(e)}\"\n",
    "\n",
    "def get_signals(dsid: str) -> str:\n",
    "    \n",
    "    pass\n",
    "\n",
    "print(\"✅ Technical support tool ready\")"
   ]
  },
  {
   "cell_type": "markdown",
   "metadata": {},
   "source": [
    "### Step 4: Create and Configure the Travel Agent\n",
    "\n",
    "Next, we will create the Travel Agent providing a model, the list of tools implemented in the previous step, and with a system prompt."
   ]
  },
  {
   "cell_type": "code",
   "execution_count": 37,
   "metadata": {},
   "outputs": [
    {
     "name": "stdout",
     "output_type": "stream",
     "text": [
      "Travel Agent created successfully!\n"
     ]
    }
   ],
   "source": [
    "from strands import Agent\n",
    "from strands.models import BedrockModel\n",
    "\n",
    "# TODO: update once knowledge base is complete?\n",
    "SYSTEM_PROMPT = \"\"\"\n",
    "\n",
    "You are a helpful Southeast Asia travel assistant for SEA Explorer, a travel website focused on Southeast Asian destinations. You have extensive knowledge about:\n",
    "\n",
    "- Destinations: Thailand, Vietnam, Indonesia, Philippines, Malaysia, Singapore, Cambodia, Laos, Myanmar, Brunei\n",
    "- Popular cities: Bangkok, Ho Chi Minh City, Hanoi, Bali, Manila, Kuala Lumpur, Singapore, Siem Reap, Chiang Mai, Penang, Yogyakarta, Luang Prabang\n",
    "- Travel experiences: cooking classes, temple tours, island hopping, cultural experiences, food tours, adventure activities\n",
    "- Practical information: visas, budgets, transportation, accommodation, safety, weather, best times to visit\n",
    "- Local culture, food, customs, and etiquette\n",
    "- Budget travel tips and backpacking routes\n",
    "- Digital nomad information and remote work opportunities\n",
    "\n",
    "Provide helpful, accurate, and engaging responses about Southeast Asian travel. Be conversational and friendly. If asked about destinations or experiences outside Southeast Asia, politely redirect the conversation back to SEA travel topics.\n",
    "\n",
    "Keep responses concise but informative. Use bullet points or numbered lists when appropriate for better readability. Format your responses with emojis and clear sections when helpful.\n",
    "\n",
    "You should customise your response according to the attributes returned by the get_signals call. e.g., users who score highly on luxury_inclined_count are more interested in luxury, cultural_explorer about cultural things etc.\n",
    "\n",
    "You have access to the following tools:\n",
    "1. get_destination_info() - For information about a specific destination\n",
    "2. get_experience_info() - For information about a specific experience\n",
    "3. web_search() - To access current technical documentation, or for updated information.\n",
    "4. get_signals() - Access the users current behavioural signals. You should call this tool every time before responding to the user.\n",
    "5. get_all_experiences() - Returns a superset of all possible experiences you can do and their associated metadata\n",
    "\n",
    "Always use the appropriate tool to get accurate, up-to-date information rather than making assumptions.\"\"\"\n",
    "\n",
    "# Initialize the Bedrock model (Anthropic Claude 3.7 Sonnet)\n",
    "model = BedrockModel(\n",
    "    model_id=\"apac.anthropic.claude-3-7-sonnet-20250219-v1:0\",\n",
    "    temperature=0.3,\n",
    "    region_name=region\n",
    ")\n",
    "\n",
    "# Create the customer support agent with all tools\n",
    "agent = Agent(\n",
    "    model=model,\n",
    "    tools=[\n",
    "        get_destination_info,  # Tool 1: Simple product information lookup\n",
    "        get_experience_info,  # Tool 2: Simple return policy lookup\n",
    "        web_search, # Tool 3: Access the web for updated information\n",
    "        get_signals, # Tool 4: Get aggregated signals based on user behaviour\n",
    "        get_all_experiences\n",
    "    ],\n",
    "    system_prompt=SYSTEM_PROMPT,\n",
    ")\n",
    "\n",
    "print(\"Travel Agent created successfully!\")"
   ]
  },
  {
   "cell_type": "markdown",
   "metadata": {},
   "source": [
    "### Step 5: Test the Travel Agent\n",
    "\n",
    "Let's test our agent with sample queries to ensure all tools work correctly.\n",
    "\n",
    "#### Test Return check"
   ]
  },
  {
   "cell_type": "code",
   "execution_count": 38,
   "metadata": {},
   "outputs": [
    {
     "name": "stdout",
     "output_type": "stream",
     "text": [
      "I'd be happy to recommend some travel experiences in Southeast Asia that might interest you! To provide personalized recommendations, I'd like to understand your preferences a bit better.\n",
      "\n",
      "Let me check if I have any information about your interests first.\n",
      "Tool #1: get_signals\n",
      "I see you have a strong interest in natural exploration, with some cultural interests as well! Let me show you all the experiences we offer in Southeast Asia, and then I can highlight the ones that would be perfect for your nature-loving preferences.\n",
      "Tool #2: get_all_experiences\n",
      "Based on your strong interest in natural exploration, I've selected some amazing Southeast Asian experiences that would be perfect for you! Here are my top recommendations:\n",
      "\n",
      "## 🌿 Top Nature & Adventure Experiences\n",
      "\n",
      "### Island & Marine Experiences\n",
      "1. **Island Hopping in Palawan, Philippines** (4.9/5 ⭐)\n",
      "   * Full day adventure to 3 islands with snorkeling\n",
      "   * Perfect for nature lovers with crystal clear waters\n",
      "   * Lunch included with small group size (12 max)\n",
      "\n",
      "2. **3-Day Komodo National Park Sailing Adventure** (4.9/5 ⭐)\n",
      "   * See the famous Komodo dragons in their natural habitat\n",
      "   * Hike Padar Island for breathtaking panoramic views\n",
      "   * Snorkel at the unique Pink Beach\n",
      "\n",
      "3. **Halong Bay Overnight Luxury Cruise** (4.8/5 ⭐)\n",
      "   * Sleep surrounded by stunning limestone karsts\n",
      "   * Includes kayaking and cave exploration\n",
      "   * Sunrise Tai Chi on deck for a peaceful nature experience\n",
      "\n",
      "### Mountain & Jungle Adventures\n",
      "1. **Kelimutu Volcano 'Three Colored Lakes' Sunrise Hike** (4.8/5 ⭐)\n",
      "   * Witness the mystical crater lakes that change colors\n",
      "   * Spectacular sunrise views in Flores, Indonesia\n",
      "   * A truly unique natural wonder\n",
      "\n",
      "2. **Bali Volcano Hiking Adventure** (4.7/5 ⭐)\n",
      "   * Sunrise hike with breathtaking views\n",
      "   * Includes relaxing hot springs visit\n",
      "   * Breakfast included after your achievement\n",
      "\n",
      "3. **Luang Prabang Waterfall Trek** (4.6/5 ⭐)\n",
      "   * Visit the stunning Kuang Si Falls in Laos\n",
      "   * Swimming opportunities in turquoise pools\n",
      "   * Includes visit to a bear sanctuary\n",
      "\n",
      "### Wildlife Experiences\n",
      "1. **Elephant Sanctuary Visit in Chiang Mai** (4.9/5 ⭐)\n",
      "   * Ethical elephant experience (no riding)\n",
      "   * Feed and bathe elephants in their natural habitat\n",
      "   * Small group size (8-10 people max)\n",
      "\n",
      "2. **Night Safari at Singapore Zoo** (4.6/5 ⭐)\n",
      "   * World's first nocturnal zoo experience\n",
      "   * See over 1,000 animals in their nighttime habitat\n",
      "   * Combination of tram ride and walking trails\n",
      "\n",
      "## 🏯 Cultural Experiences (Since You Also Have Cultural Interests)\n",
      "\n",
      "1. **Borobudur Temple Sunrise Tour** (4.9/5 ⭐)\n",
      "   * UNESCO World Heritage site with magical sunrise views\n",
      "   * Ancient Buddhist temple with volcano backdrop\n",
      "   * Perfect blend of culture and natural beauty\n",
      "\n",
      "2. **George Town Street Art Walking Tour** (4.8/5 ⭐)\n",
      "   * Discover interactive murals in Penang, Malaysia\n",
      "   * Explore a UNESCO Heritage Site\n",
      "   * Easy walking tour through charming streets\n",
      "\n",
      "Would you like more specific information about any of these experiences? Or would you prefer recommendations for a particular country or region in Southeast Asia?"
     ]
    }
   ],
   "source": [
    "response = agent(\"What experiences would be good for me?\")"
   ]
  },
  {
   "cell_type": "code",
   "execution_count": null,
   "metadata": {},
   "outputs": [],
   "source": [
    "# TODO: replace with a question about experiences perhaps?"
   ]
  },
  {
   "cell_type": "markdown",
   "metadata": {},
   "source": [
    "#### Test Troubleshooting"
   ]
  },
  {
   "cell_type": "code",
   "execution_count": null,
   "metadata": {},
   "outputs": [],
   "source": [
    "# TODO: consider testing a knowledge base here instead?"
   ]
  },
  {
   "cell_type": "markdown",
   "metadata": {},
   "source": [
    "## 🎉 Lab 1 Complete!\n",
    "\n",
    "You've successfully created a functional Customer Support Agent prototype! Here's what you accomplished:\n",
    "\n",
    "- Built an agent with 3 custom tools (return policy, product info, web search)  \n",
    "- Tested multi-tool interactions and web search capabilities  \n",
    "- Established the foundation for our production journey  \n",
    "\n",
    "### Current Limitations (We'll fix these!)\n",
    "- **Single user conversation memory** - local conversation session, multiple customers need multiple sessions.\n",
    "- **Conversation history limited to session** - no long term memory or cross session information is available in the conversation.\n",
    "- **Tools reusability** - tools aren't reusable across different agents  \n",
    "- **Running locally only** - not scalable\n",
    "- **Identity** - No user and/or agent identity or access control\n",
    "- **Observability** - Limited observability into agent behavior\n",
    "- **Existing APIs** - No access to existing enterprise APIs for customer data\n",
    "\n",
    "##### Next Up [Lab 2: Personalize our agent by adding memory →](lab-02-agentcore-memory.ipynb)\n"
   ]
  },
  {
   "cell_type": "code",
   "execution_count": 1,
   "metadata": {},
   "outputs": [
    {
     "name": "stdout",
     "output_type": "stream",
     "text": [
      "Python 3.11.11\n"
     ]
    }
   ],
   "source": [
    "!python -V"
   ]
  },
  {
   "cell_type": "code",
   "execution_count": null,
   "metadata": {},
   "outputs": [],
   "source": []
  }
 ],
 "metadata": {
  "kernelspec": {
   "display_name": "Python 3 (ipykernel)",
   "language": "python",
   "name": "python3"
  },
  "language_info": {
   "codemirror_mode": {
    "name": "ipython",
    "version": 3
   },
   "file_extension": ".py",
   "mimetype": "text/x-python",
   "name": "python",
   "nbconvert_exporter": "python",
   "pygments_lexer": "ipython3",
   "version": "3.11.11"
  }
 },
 "nbformat": 4,
 "nbformat_minor": 4
}
