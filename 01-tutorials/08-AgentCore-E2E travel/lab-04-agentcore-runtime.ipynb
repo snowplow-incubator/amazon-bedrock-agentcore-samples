{
 "cells": [
  {
   "cell_type": "markdown",
   "id": "5c0122e65c053f38",
   "metadata": {},
   "source": [
    "## Lab 4: Deploy to Production - Use AgentCore Runtime with Observability\n",
    "\n",
    "### Overview\n",
    "\n",
    "In Lab 3 we scaled our Customer Support Agent by centralizing tools through AgentCore Gateway with secure authentication. Now we'll complete the production journey by deploying our agent to AgentCore Runtime with comprehensive observability. This will transform our prototype into a production-ready system that can handle real-world traffic with full monitoring and automatic scaling.\n",
    "\n",
    "[Amazon Bedrock AgentCore Runtime](https://docs.aws.amazon.com/bedrock-agentcore/latest/devguide/agents-tools-runtime.html) is a secure, fully managed runtime that empowers organizations to deploy and scale AI agents in production, regardless of framework, protocol, or model choice. It provides enterprise-grade reliability, automatic scaling, and comprehensive monitoring capabilities.\n",
    "\n",
    "**Workshop Journey:**\n",
    "\n",
    "- **Lab 1 (Done):** Create Agent Prototype - Built a functional customer support agent\n",
    "- **Lab 2 (Done):** Enhance with Memory - Added conversation context and personalization\n",
    "- **Lab 3 (Done):** Scale with Gateway & Identity - Shared tools across agents securely\n",
    "- **Lab 4 (Current):** Deploy to Production - Used AgentCore Runtime with observability\n",
    "- **Lab 5:** Build User Interface - Create a customer-facing application\n",
    "\n",
    "### Why AgentCore Runtime & Production Deployment Matter\n",
    "\n",
    "Current State (Lab 1-3): Agent runs locally with centralized tools but faces production challenges:\n",
    "\n",
    "- Agent runs locally in a single session\n",
    "- No comprehensive monitoring or debugging capabilities\n",
    "- Cannot handle multiple concurrent users reliably\n",
    "\n",
    "After this lab, we will have a production-ready agent infrastructure with:\n",
    "\n",
    "- Serverless auto-scaling to handle variable demand\n",
    "- Comprehensive observability with traces, metrics, and logging\n",
    "- Enterprise reliability with automatic error recovery\n",
    "- Secure deployment with proper access controls\n",
    "- Easy management through AWS console and APIs and support for real-world production workloads.\n",
    "\n",
    "\n",
    "### Adding comprehensive observability with AgentCore Observability\n",
    "\n",
    "Additionally, AgentCore Runtime integrates seamlessly with [AgentCore Observability](https://docs.aws.amazon.com/bedrock-agentcore/latest/devguide/observability.html) to provide full visibility into your agent's behavior in production. AgentCore Observability automatically captures traces, metrics, and logs from your agent interactions, tool usage, and memory access patterns. In this lab we will see how AgentCore Runtime integrates with CloudWatch GenAI Observability to provide comprehensive monitoring and debugging capabilities.\n",
    "\n",
    "For request tracing, AgentCore Observability captures the complete conversation flow including tool invocations, memory retrievals, and model interactions. For performance monitoring, it tracks response times, success rates, and resource utilization to help optimize your agent's performance.\n",
    "\n",
    "During the observability flow, AgentCore Runtime automatically instruments your agent code and sends telemetry data to CloudWatch. You can then use CloudWatch dashboards and GenAI Observability features to analyze patterns, identify bottlenecks, and troubleshoot issues in real-time.\n",
    "\n",
    "### Architecture for Lab 4\n",
    "<div style=\"text-align:left\"> \n",
    "    <img src=\"images/architecture_lab4_runtime.png\" width=\"75%\"/> \n",
    "</div>\n",
    "\n",
    "*Agent now runs in AgentCore Runtime with full observability through CloudWatch, serving production traffic with auto-scaling and comprehensive monitoring. Memory and Gateway integrations from previous labs remain fully functional in the production environment.*\n",
    "\n",
    "### Key Features\n",
    "\n",
    "- **Serverless Agent Deployment:** Transform your local agent into a scalable production service using AgentCore Runtime with minimal code changes\n",
    "- **Comprehensive Observability:** Full request tracing, performance metrics, and debugging capabilities through CloudWatch GenAI Observability\n",
    "\n",
    "### Prerequisites\n",
    "\n",
    "- Python 3.12+\n",
    "- AWS account with appropriate permissions\n",
    "- Docker, Finch or Podman installed and running\n",
    "- Amazon Bedrock AgentCore SDK\n",
    "- Strands Agents framework\n",
    "\n",
    "**Note**: You MUST enable [CloudWatch Transaction Search](https://docs.aws.amazon.com/AmazonCloudWatch/latest/monitoring/Enable-TransactionSearch.html) to be able to see AgentCore Observability traces in CloudWatch.\n"
   ]
  },
  {
   "cell_type": "markdown",
   "id": "d867d862-3b01-4b97-ac00-0ff38ff57fc0",
   "metadata": {},
   "source": [
    "### Step 1: Import Required Libraries"
   ]
  },
  {
   "cell_type": "code",
   "execution_count": 1,
   "id": "aa06404e",
   "metadata": {},
   "outputs": [
    {
     "data": {
      "text/plain": [
       "'TravelAgentMemory-jEgT5dAIC4'"
      ]
     },
     "execution_count": 1,
     "metadata": {},
     "output_type": "execute_result"
    }
   ],
   "source": [
    "# Import required libraries\n",
    "import os\n",
    "import json\n",
    "import boto3\n",
    "from strands import Agent\n",
    "from strands.models import BedrockModel\n",
    "from lab_helpers.lab2_memory import create_or_get_memory_resource\n",
    "\n",
    "create_or_get_memory_resource()  # Just in case the memory lab wasn't executed"
   ]
  },
  {
   "cell_type": "markdown",
   "id": "6820ca8f-a8a8-4f34-b4ef-b6dad3776261",
   "metadata": {},
   "source": [
    "### Step 2: Preparing Your Agent for AgentCore Runtime\n",
    "\n",
    "#### Creating the Runtime-Ready Agent\n",
    "\n",
    "Let's first define the necessary AgentCore Runtime components via Python SDK within our previous local agent implementation.\n",
    "\n",
    "Observe the `#### AGENTCORE RUNTIME - LINE i ####` comments below to see where is the relevant deployment code added. You'll find 4 such lines that prepare the runtime-ready agent:\n",
    "\n",
    "1. Import the Runtime App with `from bedrock_agentcore.runtime import BedrockAgentCoreApp`\n",
    "2. Initialize the App with `app = BedrockAgentCoreApp()`\n",
    "3. Decorate our invocation function with `@app.entrypoint`\n",
    "4. Let AgentCore Runtime control the execution with `app.run()`\n"
   ]
  },
  {
   "cell_type": "code",
   "execution_count": 2,
   "id": "2e79eba2-ca59-463f-9ebf-56e362d7ae66",
   "metadata": {},
   "outputs": [
    {
     "name": "stdout",
     "output_type": "stream",
     "text": [
      "Overwriting ./lab_helpers/lab4_runtime.py\n"
     ]
    }
   ],
   "source": [
    "%%writefile ./lab_helpers/lab4_runtime.py\n",
    "from bedrock_agentcore.runtime import (\n",
    "    BedrockAgentCoreApp,\n",
    ")  #### AGENTCORE RUNTIME - LINE 1 ####\n",
    "from strands import Agent\n",
    "from strands.models import BedrockModel\n",
    "from scripts.utils import get_ssm_parameter\n",
    "\n",
    "\n",
    "from lab_helpers.lab1_strands_agent import (\n",
    "    get_destination_info,\n",
    "    get_experience_info,\n",
    "    get_signals,\n",
    "    SYSTEM_PROMPT,\n",
    "    MODEL_ID,\n",
    ")\n",
    "\n",
    "from lab_helpers.lab2_memory import (\n",
    "    CustomerSupportMemoryHooks,\n",
    "    memory_client,\n",
    "    ACTOR_ID,\n",
    "    SESSION_ID,\n",
    ")\n",
    "\n",
    "# Lab1 import: Create the Bedrock model\n",
    "print('model:', MODEL_ID)\n",
    "model = BedrockModel(model_id=MODEL_ID)\n",
    "\n",
    "# Lab2 import : Initialize memory via hooks\n",
    "memory_id = get_ssm_parameter(\"/app/travelagent/agentcore/memory_id\")\n",
    "memory_hooks = TravelAgentMemoryHooks(\n",
    "    memory_id, memory_client, ACTOR_ID, SESSION_ID\n",
    ")\n",
    "\n",
    "# Create the agent with all customer support tools\n",
    "agent = Agent(\n",
    "    model=model,\n",
    "    tools=[get_destination_info, get_experience_info, get_signals],\n",
    "    system_prompt=SYSTEM_PROMPT,\n",
    "    hooks=[memory_hooks],\n",
    ")\n",
    "\n",
    "# Initialize the AgentCore Runtime App\n",
    "app = BedrockAgentCoreApp()  #### AGENTCORE RUNTIME - LINE 2 ####\n",
    "\n",
    "\n",
    "@app.entrypoint  #### AGENTCORE RUNTIME - LINE 3 ####\n",
    "def invoke(payload):\n",
    "    \"\"\"AgentCore Runtime entrypoint function\"\"\"\n",
    "    user_input = payload.get(\"prompt\", \"\")\n",
    "\n",
    "    # Invoke the agent\n",
    "    response = agent(user_input)\n",
    "    return response.message[\"content\"][0][\"text\"]\n",
    "\n",
    "\n",
    "if __name__ == \"__main__\":\n",
    "    app.run()  #### AGENTCORE RUNTIME - LINE 4 ####"
   ]
  },
  {
   "cell_type": "markdown",
   "id": "8855aceb-b79f-4aaa-b16f-8577c059816a",
   "metadata": {},
   "source": [
    "#### What happens behind the scenes?\n",
    "\n",
    "When you use `BedrockAgentCoreApp`, it automatically:\n",
    "\n",
    "- Creates an HTTP server that listens on port 8080\n",
    "- Implements the required `/invocations` endpoint for processing requests\n",
    "- Implements the `/ping` endpoint for health checks\n",
    "- Handles proper content types and response formats\n",
    "- Manages error handling according to AWS standards\n"
   ]
  },
  {
   "cell_type": "markdown",
   "id": "8e8aa1fb-4e80-4dbd-864a-8e7bf9eab714",
   "metadata": {},
   "source": [
    "### Step 3: Deploying to AgentCore Runtime\n",
    "\n",
    "Now let's deploy our agent to AgentCore Runtime using the [AgentCore Starter Toolkit](https://github.com/aws/bedrock-agentcore-starter-toolkit).\n",
    "\n",
    "#### Configure the Secure Runtime Deployment (AgentCore Runtime + AgentCore Identity)\n",
    "\n",
    "First we will use our starter toolkit to configure the AgentCore Runtime deployment with an entrypoint, the execution role we will create and a requirements file. We will also configure the identity authorization using an Amazon Cognito user pool and we will configure the starter kit to auto create the Amazon ECR repository on launch.\n",
    "\n",
    "During the configure step, your docker file will be generated based on your application code\n",
    "\n",
    "<div style=\"text-align:left\"> \n",
    "    <img src=\"images/configure.png\" width=\"75%\"/> \n",
    "</div>\n",
    "\n",
    "**Note**: The Cognito access_token is valid for 2 hours only. If the access_token expires you can vend another access_token by using the `reauthenticate_user` method.\n"
   ]
  },
  {
   "cell_type": "code",
   "execution_count": 4,
   "id": "4581baa2-9edc-425d-becf-09968565081a",
   "metadata": {},
   "outputs": [
    {
     "name": "stdout",
     "output_type": "stream",
     "text": [
      "Setting up Amazon Cognito user pool...\n",
      "{'UserPoolId': 'ap-southeast-2_V3bb62LQH', 'ClientName': 'MCPServerPoolClient', 'ClientId': '7slmcn3dssnnkag650fklgi954', 'ClientSecret': '1r7eif2atokd8lb4vt74cqr22k6dmft6eok34h3nrfkqboa9phjb', 'LastModifiedDate': datetime.datetime(2025, 9, 23, 14, 23, 45, 81000, tzinfo=tzlocal()), 'CreationDate': datetime.datetime(2025, 9, 23, 14, 23, 45, 81000, tzinfo=tzlocal()), 'RefreshTokenValidity': 30, 'TokenValidityUnits': {}, 'ExplicitAuthFlows': ['ALLOW_USER_PASSWORD_AUTH', 'ALLOW_USER_SRP_AUTH', 'ALLOW_REFRESH_TOKEN_AUTH'], 'AllowedOAuthFlowsUserPoolClient': False, 'EnableTokenRevocation': True, 'EnablePropagateAdditionalUserContextData': False, 'AuthSessionValidity': 3}\n",
      "Pool id: ap-southeast-2_V3bb62LQH\n",
      "Discovery URL: https://cognito-idp.ap-southeast-2.amazonaws.com/ap-southeast-2_V3bb62LQH/.well-known/openid-configuration\n",
      "Client ID: 7slmcn3dssnnkag650fklgi954\n",
      "Bearer Token: eyJraWQiOiIyRktpVk9zbjh0cjk3R2pHYVhOWDlTZksxdDNNVWI0S2RQK1p1c0NKXC9EYz0iLCJhbGciOiJSUzI1NiJ9.eyJzdWIiOiIxOTZlMzRiOC0xMGExLTcwZWUtNjk3ZC0yYWNkNzY5MmFhMmMiLCJpc3MiOiJodHRwczpcL1wvY29nbml0by1pZHAuYXAtc291dGhlYXN0LTIuYW1hem9uYXdzLmNvbVwvYXAtc291dGhlYXN0LTJfVjNiYjYyTFFIIiwiY2xpZW50X2lkIjoiN3NsbWNuM2Rzc25ua2FnNjUwZmtsZ2k5NTQiLCJvcmlnaW5fanRpIjoiODExMTZjMzUtYWUwOC00YmJhLTk4NWQtZDJiODgzMTY0ZjU1IiwiZXZlbnRfaWQiOiJmODU3MWVhZS1hM2E3LTQwNzktODZiOC1iZDQyYzQ0OTU3NWMiLCJ0b2tlbl91c2UiOiJhY2Nlc3MiLCJzY29wZSI6ImF3cy5jb2duaXRvLnNpZ25pbi51c2VyLmFkbWluIiwiYXV0aF90aW1lIjoxNzU4NjAxNDI2LCJleHAiOjE3NTg2MDUwMjYsImlhdCI6MTc1ODYwMTQyNiwianRpIjoiNmZhZTNmNTEtYjU3MC00NmM5LTg5NzctYjFhMWM2NDZkYmU2IiwidXNlcm5hbWUiOiJ0ZXN0dXNlciJ9.tHhayzEa_AcstQyNA8bjFcKH_UulO0-hGms01l_v9qxOhH7BcjNenS2GS3c08dpd01fGUtagph8Vy4bhfVjcHUEfnYJ9kCaZNZ-Sk2aaVVOxhfwou6LTp9xB30c0RR9J9j9zCMhHPb2zhsp-kczoHTZqFViEEw1Pcs3HKxFI4X7YhIgjqmNxQA-qVeWUI56xJK5BqeOnS1Ftlue_aaQIWMS-I7ENd1ZniL7rErNrGTf31_v2ZfA3nuFKDULkd3z9GXXcHyxw5HrWyr5lQa3eoWbebAkwhSN06Kltzj85ewHhSLQ3scn3vbHbvS4Ih__JawA9za8WUkQOpA0YFfJZ0w\n",
      "✅ Updated existing secret\n",
      "Cognito setup completed ✓\n"
     ]
    }
   ],
   "source": [
    "from lab_helpers.utils import setup_cognito_user_pool, reauthenticate_user\n",
    "\n",
    "print(\"Setting up Amazon Cognito user pool...\")\n",
    "cognito_config = (\n",
    "    setup_cognito_user_pool()\n",
    ")  # You'll get your bearer token from this output cell.\n",
    "print(\"Cognito setup completed ✓\")"
   ]
  },
  {
   "cell_type": "code",
   "execution_count": 5,
   "id": "17a32ab8-7701-4900-8055-e24364bdf35c",
   "metadata": {},
   "outputs": [
    {
     "name": "stderr",
     "output_type": "stream",
     "text": [
      "Entrypoint parsed: file=/Users/mike/Documents/poplin/amazon-bedrock-agentcore-samples/01-tutorials/07-AgentCore-E2E/lab_helpers/lab4_runtime.py, bedrock_agentcore_name=lab4_runtime\n",
      "Configuring BedrockAgentCore agent: customer_support_agent\n"
     ]
    },
    {
     "name": "stdout",
     "output_type": "stream",
     "text": [
      "ℹ️ Role CustomerSupportAssistantBedrockAgentCoreRole-ap-southeast-2 already exists\n",
      "Role ARN: arn:aws:iam::485941242585:role/CustomerSupportAssistantBedrockAgentCoreRole-ap-southeast-2\n"
     ]
    },
    {
     "name": "stderr",
     "output_type": "stream",
     "text": [
      "Generated Dockerfile: /Users/mike/Documents/poplin/amazon-bedrock-agentcore-samples/01-tutorials/07-AgentCore-E2E/Dockerfile\n",
      "Generated .dockerignore: /Users/mike/Documents/poplin/amazon-bedrock-agentcore-samples/01-tutorials/07-AgentCore-E2E/.dockerignore\n",
      "Keeping 'customer_support_agent' as default agent\n",
      "Bedrock AgentCore configured: /Users/mike/Documents/poplin/amazon-bedrock-agentcore-samples/01-tutorials/07-AgentCore-E2E/.bedrock_agentcore.yaml\n"
     ]
    },
    {
     "name": "stdout",
     "output_type": "stream",
     "text": [
      "Configuration completed: config_path=PosixPath('/Users/mike/Documents/poplin/amazon-bedrock-agentcore-samples/01-tutorials/07-AgentCore-E2E/.bedrock_agentcore.yaml') dockerfile_path=PosixPath('/Users/mike/Documents/poplin/amazon-bedrock-agentcore-samples/01-tutorials/07-AgentCore-E2E/Dockerfile') dockerignore_path=PosixPath('/Users/mike/Documents/poplin/amazon-bedrock-agentcore-samples/01-tutorials/07-AgentCore-E2E/.dockerignore') runtime='Docker' region='ap-southeast-2' account_id='485941242585' execution_role='arn:aws:iam::485941242585:role/CustomerSupportAssistantBedrockAgentCoreRole-ap-southeast-2' ecr_repository=None auto_create_ecr=True\n"
     ]
    }
   ],
   "source": [
    "from bedrock_agentcore_starter_toolkit import Runtime\n",
    "from lab_helpers.utils import create_agentcore_runtime_execution_role\n",
    "\n",
    "# Initialize the runtime toolkit\n",
    "boto_session = boto3.session.Session()\n",
    "region = boto_session.region_name\n",
    "\n",
    "execution_role_arn = create_agentcore_runtime_execution_role()\n",
    "\n",
    "agentcore_runtime = Runtime()\n",
    "\n",
    "# Configure the deployment\n",
    "response = agentcore_runtime.configure(\n",
    "    entrypoint=\"lab_helpers/lab4_runtime.py\",\n",
    "    execution_role=execution_role_arn,\n",
    "    auto_create_ecr=True,\n",
    "    requirements_file=\"requirements.txt\",\n",
    "    region=region,\n",
    "    agent_name=\"customer_support_agent\",\n",
    "    authorizer_configuration={\n",
    "        \"customJWTAuthorizer\": {\n",
    "            \"allowedClients\": [cognito_config.get(\"client_id\")],\n",
    "            \"discoveryUrl\": cognito_config.get(\"discovery_url\"),\n",
    "        }\n",
    "    },\n",
    ")\n",
    "\n",
    "print(\"Configuration completed:\", response)"
   ]
  },
  {
   "cell_type": "markdown",
   "id": "9e1b84cc-798e-472c-ac0b-2c315f4b704d",
   "metadata": {},
   "source": [
    "#### Launch the Agent\n",
    "\n",
    "Now let's launch our agent to AgentCore Runtime. This will create an AWS CodeBuild pipeline, the Amazon ECR repository and the AgentCore Runtime components.\n",
    "\n",
    "<div style=\"text-align:left\"> \n",
    "    <img src=\"images/launch.png\" width=\"100%\"/> \n",
    "</div>"
   ]
  },
  {
   "cell_type": "code",
   "execution_count": 6,
   "id": "afa6ac09-9adb-4846-9fc1-4d12aeb74853",
   "metadata": {},
   "outputs": [
    {
     "name": "stderr",
     "output_type": "stream",
     "text": [
      "🚀 CodeBuild mode: building in cloud (RECOMMENDED - DEFAULT)\n",
      "   • Build ARM64 containers in the cloud with CodeBuild\n",
      "   • No local Docker required\n",
      "💡 Available deployment modes:\n",
      "   • runtime.launch()                           → CodeBuild (current)\n",
      "   • runtime.launch(local=True)                 → Local development\n",
      "   • runtime.launch(local_build=True)           → Local build + cloud deploy (NEW)\n",
      "Starting CodeBuild ARM64 deployment for agent 'customer_support_agent' to account 485941242585 (ap-southeast-2)\n",
      "Setting up AWS resources (ECR repository, execution roles)...\n",
      "Getting or creating ECR repository for agent: customer_support_agent\n",
      "✅ ECR repository available: 485941242585.dkr.ecr.ap-southeast-2.amazonaws.com/bedrock-agentcore-customer_support_agent\n",
      "Using execution role from config: arn:aws:iam::485941242585:role/CustomerSupportAssistantBedrockAgentCoreRole-ap-southeast-2\n",
      "Preparing CodeBuild project and uploading source...\n"
     ]
    },
    {
     "name": "stdout",
     "output_type": "stream",
     "text": [
      "✅ Reusing existing ECR repository: 485941242585.dkr.ecr.ap-southeast-2.amazonaws.com/bedrock-agentcore-customer_support_agent\n"
     ]
    },
    {
     "name": "stderr",
     "output_type": "stream",
     "text": [
      "Getting or creating CodeBuild execution role for agent: customer_support_agent\n",
      "Role name: AmazonBedrockAgentCoreSDKCodeBuild-ap-southeast-2-aa96c3a063\n",
      "Reusing existing CodeBuild execution role: arn:aws:iam::485941242585:role/AmazonBedrockAgentCoreSDKCodeBuild-ap-southeast-2-aa96c3a063\n",
      "Using .dockerignore with 44 patterns\n",
      "Uploaded source to S3: customer_support_agent/source.zip\n",
      "Updated CodeBuild project: bedrock-agentcore-customer_support_agent-builder\n",
      "Starting CodeBuild build (this may take several minutes)...\n",
      "Starting CodeBuild monitoring...\n",
      "🔄 QUEUED started (total: 0s)\n",
      "✅ QUEUED completed in 1.1s\n",
      "🔄 PROVISIONING started (total: 1s)\n",
      "✅ PROVISIONING completed in 7.5s\n",
      "🔄 DOWNLOAD_SOURCE started (total: 9s)\n",
      "✅ DOWNLOAD_SOURCE completed in 1.1s\n",
      "🔄 BUILD started (total: 10s)\n",
      "✅ BUILD completed in 17.0s\n",
      "🔄 POST_BUILD started (total: 27s)\n",
      "✅ POST_BUILD completed in 10.6s\n",
      "🔄 FINALIZING started (total: 37s)\n",
      "✅ FINALIZING completed in 1.1s\n",
      "🔄 COMPLETED started (total: 38s)\n",
      "✅ COMPLETED completed in 0.0s\n",
      "🎉 CodeBuild completed successfully in 0m 38s\n",
      "CodeBuild completed successfully\n",
      "✅ CodeBuild project configuration saved\n",
      "Deploying to Bedrock AgentCore...\n",
      "⚠️ Session ID will be reset to connect to the updated agent. The previous agent remains accessible via the original session ID: b1dc980c-ef30-47df-bd85-843448a17e9d\n",
      "✅ Agent created/updated: arn:aws:bedrock-agentcore:ap-southeast-2:485941242585:runtime/customer_support_agent-QmbieiB510\n",
      "Observability is enabled, configuring Transaction Search...\n",
      "CloudWatch Logs resource policy already configured\n",
      "X-Ray trace destination already configured\n",
      "X-Ray indexing rule already configured\n",
      "✅ Transaction Search already fully configured\n",
      "🔍 GenAI Observability Dashboard:\n",
      "   https://console.aws.amazon.com/cloudwatch/home?region=ap-southeast-2#gen-ai-observability/agent-core\n",
      "Polling for endpoint to be ready...\n",
      "Agent endpoint: arn:aws:bedrock-agentcore:ap-southeast-2:485941242585:runtime/customer_support_agent-QmbieiB510/runtime-endpoint/DEFAULT\n",
      "Deployment completed successfully - Agent: arn:aws:bedrock-agentcore:ap-southeast-2:485941242585:runtime/customer_support_agent-QmbieiB510\n",
      "Built with CodeBuild: bedrock-agentcore-customer_support_agent-builder:0045ae70-a3ec-4c1b-af8e-3d36bf989f64\n",
      "Deployed to cloud: arn:aws:bedrock-agentcore:ap-southeast-2:485941242585:runtime/customer_support_agent-QmbieiB510\n",
      "ECR image: 485941242585.dkr.ecr.ap-southeast-2.amazonaws.com/bedrock-agentcore-customer_support_agent\n",
      "🔍 Agent logs available at:\n",
      "   /aws/bedrock-agentcore/runtimes/customer_support_agent-QmbieiB510-DEFAULT --log-stream-name-prefix \"2025/09/23/\\[runtime-logs]\"\n",
      "   /aws/bedrock-agentcore/runtimes/customer_support_agent-QmbieiB510-DEFAULT --log-stream-names \"otel-rt-logs\"\n",
      "💡 Tail logs with: aws logs tail /aws/bedrock-agentcore/runtimes/customer_support_agent-QmbieiB510-DEFAULT --log-stream-name-prefix \"2025/09/23/\\[runtime-logs]\" --follow\n",
      "💡 Or view recent logs: aws logs tail /aws/bedrock-agentcore/runtimes/customer_support_agent-QmbieiB510-DEFAULT --log-stream-name-prefix \"2025/09/23/\\[runtime-logs]\" --since 1h\n"
     ]
    },
    {
     "name": "stdout",
     "output_type": "stream",
     "text": [
      "Launch completed: arn:aws:bedrock-agentcore:ap-southeast-2:485941242585:runtime/customer_support_agent-QmbieiB510\n"
     ]
    }
   ],
   "source": [
    "# Launch the agent (this will build and deploy the container)\n",
    "from lab_helpers.utils import put_ssm_parameter\n",
    "\n",
    "launch_result = agentcore_runtime.launch()\n",
    "print(\"Launch completed:\", launch_result.agent_arn)\n",
    "\n",
    "agent_arn = put_ssm_parameter(\n",
    "    \"/app/customersupport/agentcore/runtime_arn\", launch_result.agent_arn\n",
    ")"
   ]
  },
  {
   "cell_type": "markdown",
   "id": "a0ae9c09-09db-4a76-871a-92eacd96b9c3",
   "metadata": {},
   "source": [
    "#### Check Deployment Status\n",
    "\n",
    "Let's wait for the deployment to complete:\n"
   ]
  },
  {
   "cell_type": "code",
   "execution_count": 7,
   "id": "3d909e42-e1a0-407f-84c2-3d16cc889cd3",
   "metadata": {},
   "outputs": [
    {
     "name": "stderr",
     "output_type": "stream",
     "text": [
      "Retrieved Bedrock AgentCore status for: customer_support_agent\n"
     ]
    },
    {
     "name": "stdout",
     "output_type": "stream",
     "text": [
      "Final status: READY\n"
     ]
    }
   ],
   "source": [
    "import time\n",
    "\n",
    "# Wait for the agent to be ready\n",
    "status_response = agentcore_runtime.status()\n",
    "status = status_response.endpoint[\"status\"]\n",
    "\n",
    "end_status = [\"READY\", \"CREATE_FAILED\", \"DELETE_FAILED\", \"UPDATE_FAILED\"]\n",
    "while status not in end_status:\n",
    "    print(f\"Waiting for deployment... Current status: {status}\")\n",
    "    time.sleep(10)\n",
    "    status_response = agentcore_runtime.status()\n",
    "    status = status_response.endpoint[\"status\"]\n",
    "\n",
    "print(f\"Final status: {status}\")"
   ]
  },
  {
   "cell_type": "markdown",
   "id": "b7f89c56-918a-4cab-beaa-c7ac43a2ba29",
   "metadata": {},
   "source": [
    "### Step 4: Invoking Your Deployed Agent\n",
    "\n",
    "Now that our agent is deployed and ready, let's test it with some queries. We invoke the agent with the right authorization token type. In out case it'll be Cognito access token. Copy the access token from the cell above\n",
    "\n",
    "<div style=\"text-align:left\"> \n",
    "    <img src=\"images/invoke.png\" width=\"100%\"/> \n",
    "</div>\n",
    "\n",
    "#### Using the AgentCore Starter Toolkit\n",
    "\n",
    "We can validate that the agent works using the AgentCore Starter Toolkit for invocation. The starter toolkit can automatically create a session id for us to query our agent. Alternatively, you can also pass the session id as a parameter during invocation. For demonstration purpose, we will create our own session id."
   ]
  },
  {
   "cell_type": "code",
   "execution_count": 9,
   "id": "be15c4b6",
   "metadata": {},
   "outputs": [
    {
     "name": "stdout",
     "output_type": "stream",
     "text": [
      "tok: eyJraWQiOiIyRktpVk9zbjh0cjk3R2pHYVhOWDlTZksxdDNNVWI0S2RQK1p1c0NKXC9EYz0iLCJhbGciOiJSUzI1NiJ9.eyJzdWIiOiIxOTZlMzRiOC0xMGExLTcwZWUtNjk3ZC0yYWNkNzY5MmFhMmMiLCJpc3MiOiJodHRwczpcL1wvY29nbml0by1pZHAuYXAtc291dGhlYXN0LTIuYW1hem9uYXdzLmNvbVwvYXAtc291dGhlYXN0LTJfVjNiYjYyTFFIIiwiY2xpZW50X2lkIjoiN3NsbWNuM2Rzc25ua2FnNjUwZmtsZ2k5NTQiLCJvcmlnaW5fanRpIjoiYzgwNGM4MjYtNzExNy00MGJmLWI1M2YtZjVmZTQwOTE4NjhjIiwiZXZlbnRfaWQiOiI2NDgzMWRiNi1jOTYwLTRmN2QtYmM2OC1hYTM2NjgwYzMwOTQiLCJ0b2tlbl91c2UiOiJhY2Nlc3MiLCJzY29wZSI6ImF3cy5jb2duaXRvLnNpZ25pbi51c2VyLmFkbWluIiwiYXV0aF90aW1lIjoxNzU4NjAxNjAxLCJleHAiOjE3NTg2MDUyMDEsImlhdCI6MTc1ODYwMTYwMSwianRpIjoiOTNjNjJlMGYtZTVmOC00YTk0LWI5MjMtNTU2NWQ4NzlkYmYxIiwidXNlcm5hbWUiOiJ0ZXN0dXNlciJ9.jymGk0Re0B6HPAhS9FNRw9W3LFoIuCW-WO1p67Eix0MDS79ucv6CDuhEDL4jrYTvN0zdeJ9AWTSoZmmyJmyoeAFl4x8NQJuWPenXtPef3hWLAl9aGJpnf6viIR7P40Uu9KQmy46fNJ3vVHdm46ShQ4zWtDo_iQRzh6ciEre4JDu3aLibkFupdtt018ebBmhrX6Jb9SLQgsRcaXUdpuA8rhAsb_nPV2Dw_NP6NK51UNYTyIU2CrpoS10ikdXUDYwxa-5ksUiww7-eRXRnbBruaVf9GJr79kzfJms-0RTi1-UeIOEwKVEgNBG9yGoy5EjUu2WUrf3QBwlPZzssUABH9g\n",
      "{'response': '\"I apologize for the inconvenience, but I don\\'t have specific information on iPhone Bluetooth connection issues in our database. However, I can provide you with some common troubleshooting steps that often resolve Bluetooth connectivity problems:\\\\n\\\\n1. **Toggle Bluetooth Off and On**:\\\\n   - Go to Settings > Bluetooth\\\\n   - Turn Bluetooth off, wait 10 seconds, then turn it back on\\\\n\\\\n2. **Restart Your iPhone**:\\\\n   - Press and hold the power button and volume up/down (depending on your model)\\\\n   - Slide to power off, then restart after a minute\\\\n\\\\n3. **Forget and Reconnect the Bluetooth Device**:\\\\n   - Go to Settings > Bluetooth\\\\n   - Tap the \\\\\"i\\\\\" icon next to the device you\\'re having trouble with\\\\n   - Select \\\\\"Forget This Device\\\\\"\\\\n   - Put the Bluetooth device in pairing mode and reconnect\\\\n\\\\n4. **Reset Network Settings** (as a last resort):\\\\n   - Go to Settings > General > Reset > Reset Network Settings\\\\n   - Note: This will remove all saved WiFi networks and passwords\\\\n\\\\n5. **Check for iOS Updates**:\\\\n   - Go to Settings > General > Software Update\\\\n\\\\nIf you\\'re still experiencing issues after trying these steps, I\\'d be happy to help you connect with Apple Support directly as they can provide specialized assistance for iPhone issues.\\\\n\\\\nIs there a specific Bluetooth device you\\'re trying to connect to your iPhone? Or any other details about when this problem started that might help us troubleshoot further?\"'}\n"
     ]
    }
   ],
   "source": [
    "import uuid\n",
    "\n",
    "def old():\n",
    "    # Create a session ID for demonstrating session continuity\n",
    "    session_id = uuid.uuid4()\n",
    "    \n",
    "    # Test different customer support scenarios\n",
    "    user_query = \"My Iphone is not connecting with the Bluetooth. What should I do?\"\n",
    "    \n",
    "    bearer_token = reauthenticate_user(\n",
    "        cognito_config.get(\"client_id\"), \n",
    "        cognito_config.get(\"client_secret\")\n",
    "    )\n",
    "    \n",
    "    print('tok:', bearer_token)\n",
    "    \n",
    "    response = agentcore_runtime.invoke(\n",
    "        {\"prompt\": user_query}, \n",
    "        bearer_token=bearer_token,\n",
    "        session_id=str(session_id)\n",
    "    )\n",
    "    print(response)\n",
    "    response\n",
    "\n",
    "# mike custom\n",
    "\n",
    "old()"
   ]
  },
  {
   "cell_type": "markdown",
   "id": "79840836-5cd5-4139-a188-09d181438840",
   "metadata": {},
   "source": [
    "#### Invoking the agent with session continuity\n",
    "\n",
    "Since we are using AgentCore Runtime, we can easily continue our conversation with the same session id."
   ]
  },
  {
   "cell_type": "code",
   "execution_count": 9,
   "id": "2e378d3f-1fcf-4d8e-b8eb-d34578a788ff",
   "metadata": {},
   "outputs": [
    {
     "name": "stderr",
     "output_type": "stream",
     "text": [
      "Failed to invoke agent endpoint: 424 Client Error: Failed Dependency for url: https://bedrock-agentcore.ap-southeast-2.amazonaws.com/runtimes/arn%3Aaws%3Abedrock-agentcore%3Aap-southeast-2%3A485941242585%3Aruntime%2Fcustomer_support_agent-QmbieiB510/invocations?qualifier=DEFAULT\n"
     ]
    },
    {
     "ename": "HTTPError",
     "evalue": "424 Client Error: Failed Dependency for url: https://bedrock-agentcore.ap-southeast-2.amazonaws.com/runtimes/arn%3Aaws%3Abedrock-agentcore%3Aap-southeast-2%3A485941242585%3Aruntime%2Fcustomer_support_agent-QmbieiB510/invocations?qualifier=DEFAULT",
     "output_type": "error",
     "traceback": [
      "\u001b[0;31m---------------------------------------------------------------------------\u001b[0m",
      "\u001b[0;31mHTTPError\u001b[0m                                 Traceback (most recent call last)",
      "Cell \u001b[0;32mIn[9], line 2\u001b[0m\n\u001b[1;32m      1\u001b[0m user_query \u001b[38;5;241m=\u001b[39m \u001b[38;5;124m\"\u001b[39m\u001b[38;5;124mI\u001b[39m\u001b[38;5;124m'\u001b[39m\u001b[38;5;124mve turned my Bluetooth on and off but it still does not work\u001b[39m\u001b[38;5;124m\"\u001b[39m\n\u001b[0;32m----> 2\u001b[0m response \u001b[38;5;241m=\u001b[39m \u001b[43magentcore_runtime\u001b[49m\u001b[38;5;241;43m.\u001b[39;49m\u001b[43minvoke\u001b[49m\u001b[43m(\u001b[49m\n\u001b[1;32m      3\u001b[0m \u001b[43m    \u001b[49m\u001b[43m{\u001b[49m\u001b[38;5;124;43m\"\u001b[39;49m\u001b[38;5;124;43mprompt\u001b[39;49m\u001b[38;5;124;43m\"\u001b[39;49m\u001b[43m:\u001b[49m\u001b[43m \u001b[49m\u001b[43muser_query\u001b[49m\u001b[43m}\u001b[49m\u001b[43m,\u001b[49m\u001b[43m \u001b[49m\n\u001b[1;32m      4\u001b[0m \u001b[43m    \u001b[49m\u001b[43mbearer_token\u001b[49m\u001b[38;5;241;43m=\u001b[39;49m\u001b[43mbearer_token\u001b[49m\u001b[43m,\u001b[49m\n\u001b[1;32m      5\u001b[0m \u001b[43m    \u001b[49m\u001b[43msession_id\u001b[49m\u001b[38;5;241;43m=\u001b[39;49m\u001b[38;5;28;43mstr\u001b[39;49m\u001b[43m(\u001b[49m\u001b[43msession_id\u001b[49m\u001b[43m)\u001b[49m\n\u001b[1;32m      6\u001b[0m \u001b[43m)\u001b[49m\n\u001b[1;32m      7\u001b[0m response\n",
      "File \u001b[0;32m~/Documents/poplin/amazon-bedrock-agentcore-samples/.venv/lib/python3.10/site-packages/bedrock_agentcore_starter_toolkit/notebook/runtime/bedrock_agentcore.py:277\u001b[0m, in \u001b[0;36mRuntime.invoke\u001b[0;34m(self, payload, session_id, bearer_token, local, user_id)\u001b[0m\n\u001b[1;32m    274\u001b[0m     log\u001b[38;5;241m.\u001b[39minfo(\u001b[38;5;124m\"\u001b[39m\u001b[38;5;124m  runtime.invoke(\u001b[39m\u001b[38;5;124m{\u001b[39m\u001b[38;5;124m'\u001b[39m\u001b[38;5;124mmessage\u001b[39m\u001b[38;5;124m'\u001b[39m\u001b[38;5;124m: \u001b[39m\u001b[38;5;124m'\u001b[39m\u001b[38;5;124mHello\u001b[39m\u001b[38;5;124m'\u001b[39m\u001b[38;5;124m})\u001b[39m\u001b[38;5;124m\"\u001b[39m)\n\u001b[1;32m    275\u001b[0m     \u001b[38;5;28;01mraise\u001b[39;00m \u001b[38;5;167;01mValueError\u001b[39;00m(\u001b[38;5;124m\"\u001b[39m\u001b[38;5;124mMust configure and launch first.\u001b[39m\u001b[38;5;124m\"\u001b[39m)\n\u001b[0;32m--> 277\u001b[0m result \u001b[38;5;241m=\u001b[39m \u001b[43minvoke_bedrock_agentcore\u001b[49m\u001b[43m(\u001b[49m\n\u001b[1;32m    278\u001b[0m \u001b[43m    \u001b[49m\u001b[43mconfig_path\u001b[49m\u001b[38;5;241;43m=\u001b[39;49m\u001b[38;5;28;43mself\u001b[39;49m\u001b[38;5;241;43m.\u001b[39;49m\u001b[43m_config_path\u001b[49m\u001b[43m,\u001b[49m\n\u001b[1;32m    279\u001b[0m \u001b[43m    \u001b[49m\u001b[43mpayload\u001b[49m\u001b[38;5;241;43m=\u001b[39;49m\u001b[43mpayload\u001b[49m\u001b[43m,\u001b[49m\n\u001b[1;32m    280\u001b[0m \u001b[43m    \u001b[49m\u001b[43msession_id\u001b[49m\u001b[38;5;241;43m=\u001b[39;49m\u001b[43msession_id\u001b[49m\u001b[43m,\u001b[49m\n\u001b[1;32m    281\u001b[0m \u001b[43m    \u001b[49m\u001b[43mbearer_token\u001b[49m\u001b[38;5;241;43m=\u001b[39;49m\u001b[43mbearer_token\u001b[49m\u001b[43m,\u001b[49m\n\u001b[1;32m    282\u001b[0m \u001b[43m    \u001b[49m\u001b[43mlocal_mode\u001b[49m\u001b[38;5;241;43m=\u001b[39;49m\u001b[43mlocal\u001b[49m\u001b[43m,\u001b[49m\n\u001b[1;32m    283\u001b[0m \u001b[43m    \u001b[49m\u001b[43muser_id\u001b[49m\u001b[38;5;241;43m=\u001b[39;49m\u001b[43muser_id\u001b[49m\u001b[43m,\u001b[49m\n\u001b[1;32m    284\u001b[0m \u001b[43m\u001b[49m\u001b[43m)\u001b[49m\n\u001b[1;32m    285\u001b[0m \u001b[38;5;28;01mreturn\u001b[39;00m result\u001b[38;5;241m.\u001b[39mresponse\n",
      "File \u001b[0;32m~/Documents/poplin/amazon-bedrock-agentcore-samples/.venv/lib/python3.10/site-packages/bedrock_agentcore_starter_toolkit/operations/runtime/invoke.py:86\u001b[0m, in \u001b[0;36minvoke_bedrock_agentcore\u001b[0;34m(config_path, payload, agent_name, session_id, bearer_token, user_id, local_mode)\u001b[0m\n\u001b[1;32m     83\u001b[0m     \u001b[38;5;28;01mfrom\u001b[39;00m\u001b[38;5;250m \u001b[39m\u001b[38;5;21;01m.\u001b[39;00m\u001b[38;5;21;01m.\u001b[39;00m\u001b[38;5;21;01m.\u001b[39;00m\u001b[38;5;21;01mservices\u001b[39;00m\u001b[38;5;21;01m.\u001b[39;00m\u001b[38;5;21;01mruntime\u001b[39;00m\u001b[38;5;250m \u001b[39m\u001b[38;5;28;01mimport\u001b[39;00m HttpBedrockAgentCoreClient\n\u001b[1;32m     85\u001b[0m     client \u001b[38;5;241m=\u001b[39m HttpBedrockAgentCoreClient(region)\n\u001b[0;32m---> 86\u001b[0m     response \u001b[38;5;241m=\u001b[39m \u001b[43mclient\u001b[49m\u001b[38;5;241;43m.\u001b[39;49m\u001b[43minvoke_endpoint\u001b[49m\u001b[43m(\u001b[49m\n\u001b[1;32m     87\u001b[0m \u001b[43m        \u001b[49m\u001b[43magent_arn\u001b[49m\u001b[38;5;241;43m=\u001b[39;49m\u001b[43magent_arn\u001b[49m\u001b[43m,\u001b[49m\n\u001b[1;32m     88\u001b[0m \u001b[43m        \u001b[49m\u001b[43mpayload\u001b[49m\u001b[38;5;241;43m=\u001b[39;49m\u001b[43mpayload_str\u001b[49m\u001b[43m,\u001b[49m\n\u001b[1;32m     89\u001b[0m \u001b[43m        \u001b[49m\u001b[43msession_id\u001b[49m\u001b[38;5;241;43m=\u001b[39;49m\u001b[43msession_id\u001b[49m\u001b[43m,\u001b[49m\n\u001b[1;32m     90\u001b[0m \u001b[43m        \u001b[49m\u001b[43mbearer_token\u001b[49m\u001b[38;5;241;43m=\u001b[39;49m\u001b[43mbearer_token\u001b[49m\u001b[43m,\u001b[49m\n\u001b[1;32m     91\u001b[0m \u001b[43m    \u001b[49m\u001b[43m)\u001b[49m\n\u001b[1;32m     92\u001b[0m \u001b[38;5;28;01melse\u001b[39;00m:\n\u001b[1;32m     93\u001b[0m     \u001b[38;5;66;03m# Use existing boto3 client\u001b[39;00m\n\u001b[1;32m     94\u001b[0m     bedrock_agentcore_client \u001b[38;5;241m=\u001b[39m BedrockAgentCoreClient(region)\n",
      "File \u001b[0;32m~/Documents/poplin/amazon-bedrock-agentcore-samples/.venv/lib/python3.10/site-packages/bedrock_agentcore_starter_toolkit/services/runtime.py:502\u001b[0m, in \u001b[0;36mHttpBedrockAgentCoreClient.invoke_endpoint\u001b[0;34m(self, agent_arn, payload, session_id, bearer_token, endpoint_name)\u001b[0m\n\u001b[1;32m    492\u001b[0m \u001b[38;5;28;01mtry\u001b[39;00m:\n\u001b[1;32m    493\u001b[0m     \u001b[38;5;66;03m# Make request with timeout\u001b[39;00m\n\u001b[1;32m    494\u001b[0m     response \u001b[38;5;241m=\u001b[39m requests\u001b[38;5;241m.\u001b[39mpost(\n\u001b[1;32m    495\u001b[0m         url,\n\u001b[1;32m    496\u001b[0m         params\u001b[38;5;241m=\u001b[39m{\u001b[38;5;124m\"\u001b[39m\u001b[38;5;124mqualifier\u001b[39m\u001b[38;5;124m\"\u001b[39m: endpoint_name},\n\u001b[0;32m   (...)\u001b[0m\n\u001b[1;32m    500\u001b[0m         stream\u001b[38;5;241m=\u001b[39m\u001b[38;5;28;01mTrue\u001b[39;00m,\n\u001b[1;32m    501\u001b[0m     )\n\u001b[0;32m--> 502\u001b[0m     \u001b[38;5;28;01mreturn\u001b[39;00m \u001b[43m_handle_http_response\u001b[49m\u001b[43m(\u001b[49m\u001b[43mresponse\u001b[49m\u001b[43m)\u001b[49m\n\u001b[1;32m    503\u001b[0m \u001b[38;5;28;01mexcept\u001b[39;00m requests\u001b[38;5;241m.\u001b[39mexceptions\u001b[38;5;241m.\u001b[39mRequestException \u001b[38;5;28;01mas\u001b[39;00m e:\n\u001b[1;32m    504\u001b[0m     \u001b[38;5;28mself\u001b[39m\u001b[38;5;241m.\u001b[39mlogger\u001b[38;5;241m.\u001b[39merror(\u001b[38;5;124m\"\u001b[39m\u001b[38;5;124mFailed to invoke agent endpoint: \u001b[39m\u001b[38;5;132;01m%s\u001b[39;00m\u001b[38;5;124m\"\u001b[39m, \u001b[38;5;28mstr\u001b[39m(e))\n",
      "File \u001b[0;32m~/Documents/poplin/amazon-bedrock-agentcore-samples/.venv/lib/python3.10/site-packages/bedrock_agentcore_starter_toolkit/services/runtime.py:28\u001b[0m, in \u001b[0;36m_handle_http_response\u001b[0;34m(response)\u001b[0m\n\u001b[1;32m     27\u001b[0m \u001b[38;5;28;01mdef\u001b[39;00m\u001b[38;5;250m \u001b[39m\u001b[38;5;21m_handle_http_response\u001b[39m(response) \u001b[38;5;241m-\u001b[39m\u001b[38;5;241m>\u001b[39m \u001b[38;5;28mdict\u001b[39m:\n\u001b[0;32m---> 28\u001b[0m     \u001b[43mresponse\u001b[49m\u001b[38;5;241;43m.\u001b[39;49m\u001b[43mraise_for_status\u001b[49m\u001b[43m(\u001b[49m\u001b[43m)\u001b[49m\n\u001b[1;32m     29\u001b[0m     \u001b[38;5;28;01mif\u001b[39;00m \u001b[38;5;124m\"\u001b[39m\u001b[38;5;124mtext/event-stream\u001b[39m\u001b[38;5;124m\"\u001b[39m \u001b[38;5;129;01min\u001b[39;00m response\u001b[38;5;241m.\u001b[39mheaders\u001b[38;5;241m.\u001b[39mget(\u001b[38;5;124m\"\u001b[39m\u001b[38;5;124mcontent-type\u001b[39m\u001b[38;5;124m\"\u001b[39m, \u001b[38;5;124m\"\u001b[39m\u001b[38;5;124m\"\u001b[39m):\n\u001b[1;32m     30\u001b[0m         \u001b[38;5;28;01mreturn\u001b[39;00m _handle_streaming_response(response)\n",
      "File \u001b[0;32m~/.cache/uv/archive-v0/jItHFm5YixNZI5CKiFu57/lib/python3.10/site-packages/requests/models.py:1026\u001b[0m, in \u001b[0;36mResponse.raise_for_status\u001b[0;34m(self)\u001b[0m\n\u001b[1;32m   1021\u001b[0m     http_error_msg \u001b[38;5;241m=\u001b[39m (\n\u001b[1;32m   1022\u001b[0m         \u001b[38;5;124mf\u001b[39m\u001b[38;5;124m\"\u001b[39m\u001b[38;5;132;01m{\u001b[39;00m\u001b[38;5;28mself\u001b[39m\u001b[38;5;241m.\u001b[39mstatus_code\u001b[38;5;132;01m}\u001b[39;00m\u001b[38;5;124m Server Error: \u001b[39m\u001b[38;5;132;01m{\u001b[39;00mreason\u001b[38;5;132;01m}\u001b[39;00m\u001b[38;5;124m for url: \u001b[39m\u001b[38;5;132;01m{\u001b[39;00m\u001b[38;5;28mself\u001b[39m\u001b[38;5;241m.\u001b[39murl\u001b[38;5;132;01m}\u001b[39;00m\u001b[38;5;124m\"\u001b[39m\n\u001b[1;32m   1023\u001b[0m     )\n\u001b[1;32m   1025\u001b[0m \u001b[38;5;28;01mif\u001b[39;00m http_error_msg:\n\u001b[0;32m-> 1026\u001b[0m     \u001b[38;5;28;01mraise\u001b[39;00m HTTPError(http_error_msg, response\u001b[38;5;241m=\u001b[39m\u001b[38;5;28mself\u001b[39m)\n",
      "\u001b[0;31mHTTPError\u001b[0m: 424 Client Error: Failed Dependency for url: https://bedrock-agentcore.ap-southeast-2.amazonaws.com/runtimes/arn%3Aaws%3Abedrock-agentcore%3Aap-southeast-2%3A485941242585%3Aruntime%2Fcustomer_support_agent-QmbieiB510/invocations?qualifier=DEFAULT"
     ]
    }
   ],
   "source": [
    "user_query = \"I've turned my Bluetooth on and off but it still does not work\"\n",
    "response = agentcore_runtime.invoke(\n",
    "    {\"prompt\": user_query}, \n",
    "    bearer_token=bearer_token,\n",
    "    session_id=str(session_id)\n",
    ")\n",
    "response"
   ]
  },
  {
   "cell_type": "markdown",
   "id": "687d63ab-c72d-46a7-a9da-d8b008c75136",
   "metadata": {},
   "source": [
    "#### Invoking the agent with a new user\n",
    "In the example below we have not mentioned the Iphone device in the second query, but our agent still has the context of it. This is due to the AgentCore Runtime session continuity. The agent won't know the context for a new user."
   ]
  },
  {
   "cell_type": "code",
   "execution_count": null,
   "id": "92a84f17-9a71-4025-ba9e-c10682e7cd8e",
   "metadata": {},
   "outputs": [],
   "source": [
    "# Creating a new session ID for demonstrating new customer\n",
    "session_id2 = uuid.uuid4()\n",
    "\n",
    "user_query = \"Still not working. What is going on?\"\n",
    "response = agentcore_runtime.invoke(\n",
    "    {\"prompt\": user_query}, \n",
    "    bearer_token=bearer_token,\n",
    "    session_id=str(session_id2)\n",
    ")\n",
    "response"
   ]
  },
  {
   "cell_type": "markdown",
   "id": "087ad1d9",
   "metadata": {},
   "source": [
    "In this case our agent does not have the context anymore and needs more information. \n",
    "\n",
    "And it is all it takes to have a secure and scalable endpoint for our Agent with no need to manage all the underlying infrastructure!"
   ]
  },
  {
   "cell_type": "markdown",
   "id": "ca82b1ee",
   "metadata": {},
   "source": [
    "### Step 5: AgentCore Observability\n",
    "\n",
    "[AgentCore Observability](https://docs.aws.amazon.com/bedrock-agentcore/latest/devguide/observability.html) provides monitoring and tracing capabilities for AI agents using Amazon OpenTelemetry Python Instrumentation and Amazon CloudWatch GenAI Observability.\n",
    "\n",
    "#### Agents\n",
    "\n",
    "Default AgentCore Runtime configuration allows for logging our agent's traces on CloudWatch by means of **AgentCore Observability**. These traces can be seen on the AWS CloudWatch GenAI Observability dashboard. Navigate to Cloudwatch &rarr; GenAI Observability &rarr; Bedrock AgentCore.\n",
    "\n",
    "![Agents Overview on CloudWatch](images/observability_agents.png)\n",
    "\n",
    "#### Sessions\n",
    "\n",
    "The Sessions view shows the list of all the sessions associated with all agents in your account.\n",
    "\n",
    "![sessions](images/sessions_lab5_observability.png)\n",
    "\n",
    "#### Traces\n",
    "\n",
    "Trace view lists all traces from your agents in this account. To work with traces:\n",
    "\n",
    "- Choose Filter traces to search for specific traces.\n",
    "- Sort by column name to organize results.\n",
    "- Under Actions, select Logs Insights to refine your search by querying across your log and span data or select Export selected traces to export.\n",
    "\n",
    "![traces](images/traces_lab4_observability.png)\n"
   ]
  },
  {
   "cell_type": "markdown",
   "id": "7c243e86-a214-483c-aef1-d5243f28ca9e",
   "metadata": {},
   "source": [
    "### Congratulations! 🎉\n",
    "\n",
    "You have successfully completed **Lab 4: Deploy to Production - Use AgentCore Runtime with Observability!**\n",
    "\n",
    "Here is what you accomplished:\n",
    "\n",
    "##### Production-Ready Deployment:\n",
    "\n",
    "- Prepared your agent for production with minimal code changes (only 4 lines added)\n",
    "- Validated proper session isolation between different customers\n",
    "- Confirmed session continuity + memory persistence and context awareness per session\n",
    "\n",
    "##### Enterprise-Grade Security & Identity:\n",
    "\n",
    "- Implemented secure authentication using Cognito integration with JWT tokens\n",
    "- Configured proper IAM roles and execution permissions for production workloads\n",
    "- Established identity-based access control for secure agent invocation\n",
    "\n",
    "##### Comprehensive Observability:\n",
    "\n",
    "- Enabled AgentCore Observability for full request tracing across all customer sessions\n",
    "- Configured CloudWatch GenAI Observability dashboard monitoring\n",
    "\n",
    "##### Current Limitations (We'll fix these next!):\n",
    "\n",
    "- **Developer Focused Interaction** - Agent accessible via SDK/API calls but no user-friendly web interface\n",
    "- **Manual Session Management** - Requires programmatic session creation rather than intuitive user experience\n",
    "\n",
    "##### Next Up [Lab 5: Build User Interface →](lab-05-frontend.ipynb)\n",
    "In Lab 5, you'll complete the customer experience by building a user-friendly interface !! Lets go !!\n"
   ]
  },
  {
   "cell_type": "code",
   "execution_count": 13,
   "id": "fbe98c57-a6b1-4a56-84ae-4ce2ad915171",
   "metadata": {},
   "outputs": [
    {
     "name": "stdout",
     "output_type": "stream",
     "text": [
      "https://bedrock-agentcore.ap-southeast-2.amazonaws.com/runtimes/arn%3Aaws%3Abedrock-agentcore%3Aap-southeast-2%3A485941242585%3Aruntime%2Fcustomer_support_agent-QmbieiB510/invocations?qualifier=DEFAULT\n",
      "312de76c-697d-4a1c-ba28-0067e6dd3fbe\n",
      "I understand you're asking about the LLM (Large Language Model) that I'm using. I'm Claude, an AI assistant created by Anthropic. I'm designed to be helpful, harmless, and honest in my interactions.\n",
      "\n",
      "If you have any specific questions about electronics products, return policies, or technical support, I'd be happy to assist you using the tools available to me. Based on your customer context, I see you have interests in ThinkPad laptops with Linux compatibility and gaming headphones with low latency for competitive FPS games. I can provide information about these types of products if you'd like.\n",
      "\n",
      "Is there something specific about electronics that I can help you with today?\n"
     ]
    }
   ],
   "source": [
    "import requests\n",
    "import urllib.parse\n",
    "from uuid import uuid4\n",
    "\n",
    "REGION_NAME = 'ap-southeast-2'\n",
    "invoke_agent_arn = 'arn:aws:bedrock-agentcore:ap-southeast-2:485941242585:runtime/customer_support_agent-QmbieiB510'\n",
    "escaped_agent_arn = urllib.parse.quote(invoke_agent_arn, safe='')\n",
    "\n",
    "# Construct the URL\n",
    "url = f\"https://bedrock-agentcore.{REGION_NAME}.amazonaws.com/runtimes/{escaped_agent_arn}/invocations?qualifier=DEFAULT\"\n",
    "print(url)\n",
    "# url = 'https://bedrock-agentcore.ap-southeast-2.amazonaws.com/runtimes/arn%3Aaws%3Abedrock-agentcore%3Aap-southeast-2%3A485941242585%3Aruntime%2Fcustomer_support_agent-QmbieiB510/invocations?qualifier=DEFAULT'\n",
    "\n",
    "sid = str(uuid4())\n",
    "print(sid)\n",
    "\n",
    "bearer_token = reauthenticate_user(\n",
    "    cognito_config.get(\"client_id\"), \n",
    "    cognito_config.get(\"client_secret\")\n",
    ")\n",
    "\n",
    "headers = {\n",
    "    'Authorization': f'Bearer {bearer_token}',\n",
    "    'Content-Type': 'application/json',\n",
    "    \"X-Amzn-Bedrock-AgentCore-Runtime-Session-Id\": sid\n",
    "}\n",
    "\n",
    "invoke_response = requests.post(\n",
    "    url,\n",
    "    headers=headers,\n",
    "    data=json.dumps({\"prompt\": \"what LLM model are you using?\"})\n",
    ")\n",
    "print(invoke_response.json())\n",
    "    "
   ]
  },
  {
   "cell_type": "code",
   "execution_count": 18,
   "id": "9ec65493-99fe-4fc7-871f-4a752d31db70",
   "metadata": {},
   "outputs": [
    {
     "name": "stdout",
     "output_type": "stream",
     "text": [
      "Status Code: 400\n",
      "Response Headers: {'Date': 'Tue, 23 Sep 2025 04:18:52 GMT', 'Content-Type': 'application/json', 'Content-Length': '183', 'Connection': 'keep-alive', 'x-amzn-RequestId': '1529d946-c11b-4b7e-be82-09055169e933', 'x-amzn-ErrorType': 'ValidationException:http://internal.amazon.com/coral/com.amazon.bedrock.agentcore.common/'}\n"
     ]
    }
   ],
   "source": [
    "# Print response in a safe manner\n",
    "print(f\"Status Code: {invoke_response.status_code}\")\n",
    "print(f\"Response Headers: {dict(invoke_response.headers)}\")"
   ]
  },
  {
   "cell_type": "code",
   "execution_count": 15,
   "id": "37e4e042-8455-4c43-b8d8-4d28f28c04e3",
   "metadata": {},
   "outputs": [
    {
     "name": "stdout",
     "output_type": "stream",
     "text": [
      "{'pool_id': 'ap-southeast-2_V3bb62LQH', 'client_id': '7slmcn3dssnnkag650fklgi954', 'client_secret': '1r7eif2atokd8lb4vt74cqr22k6dmft6eok34h3nrfkqboa9phjb', 'secret_hash': 'dRYmS9GQ9HO7eMzUJWJoFraemUiJy20x19JMRaCDopo=', 'bearer_token': 'eyJraWQiOiIyRktpVk9zbjh0cjk3R2pHYVhOWDlTZksxdDNNVWI0S2RQK1p1c0NKXC9EYz0iLCJhbGciOiJSUzI1NiJ9.eyJzdWIiOiIxOTZlMzRiOC0xMGExLTcwZWUtNjk3ZC0yYWNkNzY5MmFhMmMiLCJpc3MiOiJodHRwczpcL1wvY29nbml0by1pZHAuYXAtc291dGhlYXN0LTIuYW1hem9uYXdzLmNvbVwvYXAtc291dGhlYXN0LTJfVjNiYjYyTFFIIiwiY2xpZW50X2lkIjoiN3NsbWNuM2Rzc25ua2FnNjUwZmtsZ2k5NTQiLCJvcmlnaW5fanRpIjoiODExMTZjMzUtYWUwOC00YmJhLTk4NWQtZDJiODgzMTY0ZjU1IiwiZXZlbnRfaWQiOiJmODU3MWVhZS1hM2E3LTQwNzktODZiOC1iZDQyYzQ0OTU3NWMiLCJ0b2tlbl91c2UiOiJhY2Nlc3MiLCJzY29wZSI6ImF3cy5jb2duaXRvLnNpZ25pbi51c2VyLmFkbWluIiwiYXV0aF90aW1lIjoxNzU4NjAxNDI2LCJleHAiOjE3NTg2MDUwMjYsImlhdCI6MTc1ODYwMTQyNiwianRpIjoiNmZhZTNmNTEtYjU3MC00NmM5LTg5NzctYjFhMWM2NDZkYmU2IiwidXNlcm5hbWUiOiJ0ZXN0dXNlciJ9.tHhayzEa_AcstQyNA8bjFcKH_UulO0-hGms01l_v9qxOhH7BcjNenS2GS3c08dpd01fGUtagph8Vy4bhfVjcHUEfnYJ9kCaZNZ-Sk2aaVVOxhfwou6LTp9xB30c0RR9J9j9zCMhHPb2zhsp-kczoHTZqFViEEw1Pcs3HKxFI4X7YhIgjqmNxQA-qVeWUI56xJK5BqeOnS1Ftlue_aaQIWMS-I7ENd1ZniL7rErNrGTf31_v2ZfA3nuFKDULkd3z9GXXcHyxw5HrWyr5lQa3eoWbebAkwhSN06Kltzj85ewHhSLQ3scn3vbHbvS4Ih__JawA9za8WUkQOpA0YFfJZ0w', 'discovery_url': 'https://cognito-idp.ap-southeast-2.amazonaws.com/ap-southeast-2_V3bb62LQH/.well-known/openid-configuration'}\n"
     ]
    }
   ],
   "source": [
    "bearer_token = reauthenticate_user(\n",
    "    cognito_config.get(\"client_id\"), \n",
    "    cognito_config.get(\"client_secret\")\n",
    ")\n",
    "print(cognito_config)"
   ]
  },
  {
   "cell_type": "code",
   "execution_count": null,
   "id": "8f1a2bb7-4490-466a-a3a8-874f4b8e85dd",
   "metadata": {},
   "outputs": [],
   "source": []
  }
 ],
 "metadata": {
  "kernelspec": {
   "display_name": "Python 3 (ipykernel)",
   "language": "python",
   "name": "python3"
  },
  "language_info": {
   "codemirror_mode": {
    "name": "ipython",
    "version": 3
   },
   "file_extension": ".py",
   "mimetype": "text/x-python",
   "name": "python",
   "nbconvert_exporter": "python",
   "pygments_lexer": "ipython3",
   "version": "3.11.11"
  }
 },
 "nbformat": 4,
 "nbformat_minor": 5
}
